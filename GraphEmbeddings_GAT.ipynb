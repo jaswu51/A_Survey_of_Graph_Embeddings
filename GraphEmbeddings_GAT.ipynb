{
  "cells": [
    {
      "cell_type": "markdown",
      "metadata": {
        "id": "view-in-github",
        "colab_type": "text"
      },
      "source": [
        "<a href=\"https://colab.research.google.com/github/jaswu51/GraphEmbeddings/blob/main/GraphEmbeddings_GAT.ipynb\" target=\"_parent\"><img src=\"https://colab.research.google.com/assets/colab-badge.svg\" alt=\"Open In Colab\"/></a>"
      ]
    },
    {
      "cell_type": "markdown",
      "source": [
        "# Node-level Embedding via: Graph Attention Network (GAT)"
      ],
      "metadata": {
        "id": "iXYadsWw5Z5k"
      }
    },
    {
      "cell_type": "markdown",
      "source": [
        "We use GAT from PyG package, because it allows the input of the edge attributes.\n",
        "\n",
        "Firstly, we will get each node's embedding vector, then a readout function is implemented to aggregate the node vector into a graph summary, such as mean, max. "
      ],
      "metadata": {
        "id": "9MM4QjI88xmN"
      }
    },
    {
      "cell_type": "code",
      "source": [
        "!python -c \"import torch; print(torch.__version__)\""
      ],
      "metadata": {
        "colab": {
          "base_uri": "https://localhost:8080/"
        },
        "id": "5PbvZ8kxA2RK",
        "outputId": "a4616015-ae60-42fe-e9a9-2ceb8e118394"
      },
      "execution_count": null,
      "outputs": [
        {
          "output_type": "stream",
          "name": "stdout",
          "text": [
            "1.13.0+cu116\n"
          ]
        }
      ]
    },
    {
      "cell_type": "code",
      "source": [
        "!pip install pyg-lib torch-scatter torch-sparse torch-cluster torch-spline-conv torch-geometric -f https://data.pyg.org/whl/torch-1.13.0+cu116.html"
      ],
      "metadata": {
        "colab": {
          "base_uri": "https://localhost:8080/"
        },
        "id": "Tlyi9ErJA8Wd",
        "outputId": "d12a4f1f-6f4c-42d1-a19b-e13152531176"
      },
      "execution_count": null,
      "outputs": [
        {
          "output_type": "stream",
          "name": "stdout",
          "text": [
            "Looking in indexes: https://pypi.org/simple, https://us-python.pkg.dev/colab-wheels/public/simple/\n",
            "Looking in links: https://data.pyg.org/whl/torch-1.13.0+cu116.html\n",
            "Collecting pyg-lib\n",
            "  Downloading https://data.pyg.org/whl/torch-1.13.0%2Bcu116/pyg_lib-0.1.0%2Bpt113cu116-cp38-cp38-linux_x86_64.whl (1.9 MB)\n",
            "\u001b[K     |████████████████████████████████| 1.9 MB 28.7 MB/s \n",
            "\u001b[?25hCollecting torch-scatter\n",
            "  Downloading https://data.pyg.org/whl/torch-1.13.0%2Bcu116/torch_scatter-2.1.0%2Bpt113cu116-cp38-cp38-linux_x86_64.whl (9.4 MB)\n",
            "\u001b[K     |████████████████████████████████| 9.4 MB 50.7 MB/s \n",
            "\u001b[?25hCollecting torch-sparse\n",
            "  Downloading https://data.pyg.org/whl/torch-1.13.0%2Bcu116/torch_sparse-0.6.16%2Bpt113cu116-cp38-cp38-linux_x86_64.whl (4.5 MB)\n",
            "\u001b[K     |████████████████████████████████| 4.5 MB 62.0 MB/s \n",
            "\u001b[?25hCollecting torch-cluster\n",
            "  Downloading https://data.pyg.org/whl/torch-1.13.0%2Bcu116/torch_cluster-1.6.0%2Bpt113cu116-cp38-cp38-linux_x86_64.whl (3.2 MB)\n",
            "\u001b[K     |████████████████████████████████| 3.2 MB 56.9 MB/s \n",
            "\u001b[?25hCollecting torch-spline-conv\n",
            "  Downloading https://data.pyg.org/whl/torch-1.13.0%2Bcu116/torch_spline_conv-1.2.1%2Bpt113cu116-cp38-cp38-linux_x86_64.whl (873 kB)\n",
            "\u001b[K     |████████████████████████████████| 873 kB 40.9 MB/s \n",
            "\u001b[?25hCollecting torch-geometric\n",
            "  Downloading torch_geometric-2.2.0.tar.gz (564 kB)\n",
            "\u001b[K     |████████████████████████████████| 564 kB 30.9 MB/s \n",
            "\u001b[?25hRequirement already satisfied: scipy in /usr/local/lib/python3.8/dist-packages (from torch-sparse) (1.7.3)\n",
            "Requirement already satisfied: tqdm in /usr/local/lib/python3.8/dist-packages (from torch-geometric) (4.64.1)\n",
            "Requirement already satisfied: numpy in /usr/local/lib/python3.8/dist-packages (from torch-geometric) (1.21.6)\n",
            "Requirement already satisfied: jinja2 in /usr/local/lib/python3.8/dist-packages (from torch-geometric) (2.11.3)\n",
            "Requirement already satisfied: requests in /usr/local/lib/python3.8/dist-packages (from torch-geometric) (2.23.0)\n",
            "Requirement already satisfied: pyparsing in /usr/local/lib/python3.8/dist-packages (from torch-geometric) (3.0.9)\n",
            "Requirement already satisfied: scikit-learn in /usr/local/lib/python3.8/dist-packages (from torch-geometric) (1.0.2)\n",
            "Requirement already satisfied: psutil>=5.8.0 in /usr/local/lib/python3.8/dist-packages (from torch-geometric) (5.9.4)\n",
            "Requirement already satisfied: MarkupSafe>=0.23 in /usr/local/lib/python3.8/dist-packages (from jinja2->torch-geometric) (2.0.1)\n",
            "Requirement already satisfied: urllib3!=1.25.0,!=1.25.1,<1.26,>=1.21.1 in /usr/local/lib/python3.8/dist-packages (from requests->torch-geometric) (1.24.3)\n",
            "Requirement already satisfied: chardet<4,>=3.0.2 in /usr/local/lib/python3.8/dist-packages (from requests->torch-geometric) (3.0.4)\n",
            "Requirement already satisfied: idna<3,>=2.5 in /usr/local/lib/python3.8/dist-packages (from requests->torch-geometric) (2.10)\n",
            "Requirement already satisfied: certifi>=2017.4.17 in /usr/local/lib/python3.8/dist-packages (from requests->torch-geometric) (2022.12.7)\n",
            "Requirement already satisfied: threadpoolctl>=2.0.0 in /usr/local/lib/python3.8/dist-packages (from scikit-learn->torch-geometric) (3.1.0)\n",
            "Requirement already satisfied: joblib>=0.11 in /usr/local/lib/python3.8/dist-packages (from scikit-learn->torch-geometric) (1.2.0)\n",
            "Building wheels for collected packages: torch-geometric\n",
            "  Building wheel for torch-geometric (setup.py) ... \u001b[?25l\u001b[?25hdone\n",
            "  Created wheel for torch-geometric: filename=torch_geometric-2.2.0-py3-none-any.whl size=773302 sha256=59fa6186050aee007b6964913d3c7ef48ceddcc337ce5463cc7a33c4a57cbd16\n",
            "  Stored in directory: /root/.cache/pip/wheels/59/a3/20/198928106d3169865ae73afcbd3d3d1796cf6b429b55c65378\n",
            "Successfully built torch-geometric\n",
            "Installing collected packages: torch-spline-conv, torch-sparse, torch-scatter, torch-geometric, torch-cluster, pyg-lib\n",
            "Successfully installed pyg-lib-0.1.0+pt113cu116 torch-cluster-1.6.0+pt113cu116 torch-geometric-2.2.0 torch-scatter-2.1.0+pt113cu116 torch-sparse-0.6.16+pt113cu116 torch-spline-conv-1.2.1+pt113cu116\n"
          ]
        }
      ]
    },
    {
      "cell_type": "code",
      "source": [
        "import torch\n",
        "from torch_geometric.data import Data\n",
        "from torch_geometric.utils import train_test_split_edges\n",
        "\n",
        "edge_index = torch.tensor([[0, 1, 1, 6,2, 7, 8, 2,3, 4, 1, 2,5, 9],\n",
        "                           [1, 3, 2, 1,6, 1, 7, 2,5, 3, 1, 2,9, 3]], dtype=torch.long)\n",
        "\n",
        "edge_attr =  torch.tensor([\n",
        "                            [0, 1],\n",
        "                            [1, 2],\n",
        "                           [9, 8], \n",
        "                          [2, 1],\n",
        "                           [7, 0], \n",
        "                          [2, 3],\n",
        "                           [4, 0], \n",
        "                          [2, 5],\n",
        "                           [6, 0], \n",
        "                          [2, 1],\n",
        "                           [4, 0], \n",
        "                          [2, 5],\n",
        "                           [6, 0], \n",
        "                          [2, 1]\n",
        "                           ], dtype=torch.float)\n",
        "x_features = torch.tensor([[-1,12,23,1,21], \n",
        "                           [-1,12,23,1,21], \n",
        "                           [-1,12,23,1,21], \n",
        "                           [-1,12,23,1,21], \n",
        "                           [-1,12,23,1,21], \n",
        "                           [-1,12,23,1,21], \n",
        "                           [-1,12,23,1,21], \n",
        "                           [-1,12,23,1,21], \n",
        "                  [12,3,12,4,0], \n",
        "                  [1,23,12,2,1]], dtype=torch.float)\n",
        "\n",
        "graph_label= torch.tensor([[1],[0],[1],[0],[1],[0],[1],[0],[1],[1]], dtype=torch.float)\n",
        "data = Data(x=x_features, edge_index=edge_index,edge_attr=edge_attr,y=graph_label)\n",
        "data"
      ],
      "metadata": {
        "colab": {
          "base_uri": "https://localhost:8080/"
        },
        "id": "vb7diJ_CDggR",
        "outputId": "83d81ffa-2578-496a-cd31-c78213737c8b"
      },
      "execution_count": null,
      "outputs": [
        {
          "output_type": "execute_result",
          "data": {
            "text/plain": [
              "Data(x=[10, 5], edge_index=[2, 14], edge_attr=[14, 2], y=[10, 1])"
            ]
          },
          "metadata": {},
          "execution_count": 143
        }
      ]
    },
    {
      "cell_type": "code",
      "source": [
        "import random\n",
        "from torch_geometric.utils import to_networkx\n",
        "import networkx as nx\n",
        "\n",
        "def convert_to_networkx(graph, n_sample=None):\n",
        "\n",
        "    g = to_networkx(graph, node_attrs=[\"x\"])\n",
        "    y = graph.y.numpy()\n",
        "\n",
        "    if n_sample is not None:\n",
        "        sampled_nodes = random.sample(g.nodes, n_sample)\n",
        "        g = g.subgraph(sampled_nodes)\n",
        "        y = y[sampled_nodes]\n",
        "\n",
        "    return g, y\n",
        "\n",
        "\n",
        "def plot_graph(g, y):\n",
        "\n",
        "    plt.figure(figsize=(9, 7))\n",
        "    nx.draw_spring(g, node_size=30, arrows=False, node_color=y)\n",
        "    plt.show() \n",
        "    \n",
        "    \n",
        "g, y = convert_to_networkx(data)\n",
        "plot_graph(g, y)"
      ],
      "metadata": {
        "colab": {
          "base_uri": "https://localhost:8080/",
          "height": 535
        },
        "id": "da3UiPzMKjki",
        "outputId": "f3496c46-5d9d-4dfb-ce61-b6e488acd6af"
      },
      "execution_count": null,
      "outputs": [
        {
          "output_type": "display_data",
          "data": {
            "text/plain": [
              "<Figure size 648x504 with 1 Axes>"
            ],
            "image/png": "[encoded data removed]"
          },
          "metadata": {}
        }
      ]
    },
    {
      "cell_type": "code",
      "source": [
        "a = torch.rand(data.num_nodes)\n",
        "train_mask = a<0.6\n",
        "val_mask= a>0.8\n",
        "test_mask=~(train_mask + val_mask)"
      ],
      "metadata": {
        "id": "VoMtzSamlRpR"
      },
      "execution_count": null,
      "outputs": []
    },
    {
      "cell_type": "code",
      "source": [
        "data"
      ],
      "metadata": {
        "colab": {
          "base_uri": "https://localhost:8080/"
        },
        "id": "I1J8g5w3lzu-",
        "outputId": "4a828828-77ae-478d-ad6b-cb6102c26d6f"
      },
      "execution_count": null,
      "outputs": [
        {
          "output_type": "execute_result",
          "data": {
            "text/plain": [
              "Data(x=[10, 5], edge_index=[2, 14], edge_attr=[14, 2], y=[10, 1], train_mask=[10], test_mask=[10], val_mask=[10])"
            ]
          },
          "metadata": {},
          "execution_count": 155
        }
      ]
    },
    {
      "cell_type": "code",
      "source": [
        "data.train_mask=train_mask\n",
        "data.test_mask=test_mask\n",
        "data.val_mask=val_mask\n",
        "val_mask"
      ],
      "metadata": {
        "colab": {
          "base_uri": "https://localhost:8080/"
        },
        "id": "gg-jDq_pl0wR",
        "outputId": "dc88812f-beae-41fa-8a84-67ff979c6e42"
      },
      "execution_count": null,
      "outputs": [
        {
          "output_type": "execute_result",
          "data": {
            "text/plain": [
              "tensor([False, False, False,  True, False, False, False,  True, False, False])"
            ]
          },
          "metadata": {},
          "execution_count": 156
        }
      ]
    },
    {
      "cell_type": "code",
      "source": [
        "import torch\n",
        "import torch.nn as nn\n",
        "import torch.nn.functional as F\n",
        "from torch_geometric.nn import GATConv\n",
        "from torch_geometric.data import Data, Batch\n",
        "from torch.optim.lr_scheduler import ReduceLROnPlateau\n",
        "from torch.autograd import Variable\n",
        "\n",
        "class GAT(nn.Module):\n",
        "    r\"\"\"Graph Attention Network to extract the feature of physical network.\"\"\"\n",
        "    def __init__(self, input_dim, output_dim, embedding_dim, heads=1, edge_dim=None, dropout_prob=0.2):\n",
        "        super(GAT, self).__init__()\n",
        "        self.conv1 = GATConv(input_dim, embedding_dim, heads=heads, edge_dim=edge_dim)\n",
        "        self.dropout = nn.Dropout(p=dropout_prob)\n",
        "        self.conv2 = GATConv(embedding_dim, embedding_dim, heads=heads, edge_dim=edge_dim)\n",
        "        self.dropout = nn.Dropout(p=dropout_prob)\n",
        "        self.conv3 = GATConv(embedding_dim, output_dim, heads=heads, edge_dim=edge_dim)\n",
        "\n",
        "    def forward(self, data):\n",
        "        x, edge_index, edge_attr = data['x'], data['edge_index'], data.get('edge_attr', None)\n",
        "        x = F.relu(self.conv1(x, edge_index, edge_attr))\n",
        "        x = self.dropout(x)\n",
        "        x = F.relu(self.conv2(x, edge_index, edge_attr))\n",
        "        x = self.dropout(x)\n",
        "        x = self.conv3(x, edge_index, edge_attr)\n",
        "        return F.sigmoid(x) "
      ],
      "metadata": {
        "id": "KS9Sxm6zZuWe"
      },
      "execution_count": null,
      "outputs": []
    },
    {
      "cell_type": "code",
      "source": [
        "num_features=data.num_features\n",
        "num_classes=1\n",
        "hidden_channels=3\n",
        "heads=1\n",
        "epochs=10\n",
        "dropout_prob=0.2\n",
        "\n",
        "device = torch.device('cuda' if torch.cuda.is_available() else 'cpu')\n",
        "model = GAT(input_dim=num_features, embedding_dim=hidden_channels, output_dim=num_classes,edge_dim=2,dropout_prob=dropout_prob,heads=heads).to(device)\n",
        "optimizer = torch.optim.Adam(model.parameters(), lr=0.005, weight_decay=5e-4)\n",
        "scheduler = ReduceLROnPlateau(optimizer, 'max', patience=7)"
      ],
      "metadata": {
        "id": "cNqHuA_uaCyK"
      },
      "execution_count": null,
      "outputs": []
    },
    {
      "cell_type": "code",
      "source": [
        "def train():\n",
        "    model.train()\n",
        "    optimizer.zero_grad()\n",
        "    out = model(data)\n",
        "    # print(\"out\")\n",
        "    # print(out)\n",
        "    loss = F.cross_entropy(out[data.train_mask], data.y[data.train_mask])\n",
        "    # print(\"loss\")\n",
        "    # print(loss)\n",
        "    loss.backward()\n",
        "    optimizer.step()\n",
        "    return float(loss)\n",
        "\n",
        "\n",
        "@torch.no_grad()\n",
        "def test():\n",
        "    model.eval()\n",
        "    pred = model(data)\n",
        "    accs = []\n",
        "    for mask in [data.train_mask, data.val_mask, data.test_mask]:\n",
        "      threhold = Variable(torch.Tensor([0.5]))  # threshold\n",
        "      pred_binary = (pred[mask] > threhold).float() * 1\n",
        "      accs.append(int((pred_binary == data.y[mask]).sum()) / int(mask.sum()))\n",
        "    return accs"
      ],
      "metadata": {
        "id": "gAUg6Pvugw81"
      },
      "execution_count": null,
      "outputs": []
    },
    {
      "cell_type": "code",
      "source": [
        "best_val_acc = final_test_acc = 0\n",
        "for epoch in range(1, epochs + 1):\n",
        "    loss = train()\n",
        "    train_acc, val_acc, tmp_test_acc = test()\n",
        "    if val_acc > best_val_acc:\n",
        "        best_val_acc = val_acc\n",
        "        test_acc = tmp_test_acc\n",
        "    print(f'Epoch: {epoch:03d}, Train: {train_acc:.4f}, Val: {val_acc:.4f}, '\n",
        "          f'Test: {tmp_test_acc:.4f}')"
      ],
      "metadata": {
        "colab": {
          "base_uri": "https://localhost:8080/"
        },
        "id": "ZBMPXBPNaxHc",
        "outputId": "4bb936be-0fcd-488e-bf69-10d025765141"
      },
      "execution_count": null,
      "outputs": [
        {
          "output_type": "stream",
          "name": "stdout",
          "text": [
            "Epoch: 001, Train: 1.0000, Val: 1.0000, Test: 1.0000\n",
            "Epoch: 002, Train: 1.0000, Val: 1.0000, Test: 1.0000\n",
            "Epoch: 003, Train: 1.0000, Val: 1.0000, Test: 1.0000\n",
            "Epoch: 004, Train: 1.0000, Val: 1.0000, Test: 1.0000\n",
            "Epoch: 005, Train: 1.0000, Val: 1.0000, Test: 1.0000\n",
            "Epoch: 006, Train: 1.0000, Val: 1.0000, Test: 1.0000\n",
            "Epoch: 007, Train: 1.0000, Val: 1.0000, Test: 1.0000\n",
            "Epoch: 008, Train: 1.0000, Val: 1.0000, Test: 1.0000\n",
            "Epoch: 009, Train: 1.0000, Val: 1.0000, Test: 1.0000\n",
            "Epoch: 010, Train: 1.0000, Val: 1.0000, Test: 1.0000\n"
          ]
        }
      ]
    }
  ],
  "metadata": {
    "kernelspec": {
      "display_name": "Python 3",
      "language": "python",
      "name": "python3"
    },
    "language_info": {
      "codemirror_mode": {
        "name": "ipython",
        "version": 3
      },
      "file_extension": ".py",
      "mimetype": "text/x-python",
      "name": "python",
      "nbconvert_exporter": "python",
      "pygments_lexer": "ipython3",
      "version": "3.6.9"
    },
    "colab": {
      "provenance": [],
      "include_colab_link": true
    }
  },
  "nbformat": 4,
  "nbformat_minor": 0
}